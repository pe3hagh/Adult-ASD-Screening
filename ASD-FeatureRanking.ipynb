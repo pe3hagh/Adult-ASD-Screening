{
 "cells": [
  {
   "cell_type": "code",
   "execution_count": 7,
   "metadata": {},
   "outputs": [
    {
     "name": "stdout",
     "output_type": "stream",
     "text": [
      "\n",
      "Feature Ranking (Correlation):\n",
      "                          Feature  Correlation\n",
      "result                    result     0.821445\n",
      "A9_Score                A9_Score     0.635576\n",
      "A6_Score                A6_Score     0.592091\n",
      "A5_Score                A5_Score     0.537004\n",
      "A4_Score                A4_Score     0.469945\n",
      "A3_Score                A3_Score     0.441074\n",
      "A10_Score              A10_Score     0.385917\n",
      "A7_Score                A7_Score     0.351429\n",
      "A2_Score                A2_Score     0.311382\n",
      "A1_Score                A1_Score     0.297628\n",
      "A8_Score                A8_Score     0.237161\n",
      "austim                    austim     0.177415\n",
      "jundice                  jundice     0.102152\n",
      "gender_f                gender_f     0.080378\n",
      "age                          age     0.059138\n",
      "used_app_before  used_app_before     0.044038\n",
      "gender_m                gender_m    -0.080378\n"
     ]
    }
   ],
   "source": [
    "import pandas as pd\n",
    "import numpy as np\n",
    "from sklearn.ensemble import RandomForestClassifier\n",
    "from sklearn.feature_selection import mutual_info_classif\n",
    "import matplotlib.pylab as plt\n",
    "%matplotlib inline\n",
    "df= pd.read_csv('file:///C:/Users/pe3ha/OneDrive/Desktop/clean_data.csv')\n",
    "\n",
    "df.drop(columns=['ethnicity', 'contry_of_res', 'relation'], inplace=True)\n",
    "\n",
    "# df is our DataFrame, and 'Class/ASD' is our target variable\n",
    "X = df.drop('Class/ASD', axis=1)  # Features\n",
    "y = df['Class/ASD']  # Target variable\n",
    "\n",
    "\n",
    "# Create a RandomForestClassifier\n",
    "clf = RandomForestClassifier(n_estimators=100, random_state=0)\n",
    "\n",
    "# Fit the model\n",
    "clf.fit(X, y)\n",
    "\n",
    "# Get feature importances from the random forest\n",
    "feature_importances = clf.feature_importances_\n",
    "\n",
    "# Combine feature names and their importances\n",
    "feature_ranking_rf = pd.DataFrame({'Feature': X.columns, 'Importance_RF': feature_importances})\n",
    "\n",
    "# Calculate Information Gain (IG) for each feature\n",
    "ig_scores = mutual_info_classif(X, y)\n",
    "\n",
    "# Combine feature names and their IG scores\n",
    "feature_ranking_ig = pd.DataFrame({'Feature': X.columns, 'IG_Score': ig_scores})\n",
    "\n",
    "# Calculate the correlation between each feature and the target variable\n",
    "correlation_scores = X.apply(lambda feature: feature.corr(y))\n",
    "\n",
    "# Combine feature names and their correlation scores\n",
    "feature_ranking_corr = pd.DataFrame({'Feature': X.columns, 'Correlation': correlation_scores})\n",
    "\n",
    "# Sort features by importance (RF), IG score, and correlation\n",
    "feature_ranking_rf = feature_ranking_rf.sort_values(by='Importance_RF', ascending=False)\n",
    "feature_ranking_ig = feature_ranking_ig.sort_values(by='IG_Score', ascending=False)\n",
    "feature_ranking_corr = feature_ranking_corr.sort_values(by='Correlation', ascending=False)\n",
    "\n",
    "# Print or display the feature rankings\n",
    "print(\"Feature Ranking (Random Forest):\\n\", feature_ranking_rf)\n",
    "print(\"\\nFeature Ranking (Information Gain):\\n\", feature_ranking_ig)\n",
    "print(\"\\nFeature Ranking (Correlation):\\n\", feature_ranking_corr)\n",
    "\n"
   ]
  },
  {
   "cell_type": "code",
   "execution_count": 6,
   "metadata": {},
   "outputs": [
    {
     "name": "stdout",
     "output_type": "stream",
     "text": [
      "Requirement already satisfied: scikit-learn in c:\\users\\pe3ha\\appdata\\local\\packages\\pythonsoftwarefoundation.python.3.10_qbz5n2kfra8p0\\localcache\\local-packages\\python310\\site-packages (1.3.0)\n",
      "Requirement already satisfied: numpy>=1.17.3 in c:\\users\\pe3ha\\appdata\\local\\packages\\pythonsoftwarefoundation.python.3.10_qbz5n2kfra8p0\\localcache\\local-packages\\python310\\site-packages (from scikit-learn) (1.25.1)\n",
      "Requirement already satisfied: scipy>=1.5.0 in c:\\users\\pe3ha\\appdata\\local\\packages\\pythonsoftwarefoundation.python.3.10_qbz5n2kfra8p0\\localcache\\local-packages\\python310\\site-packages (from scikit-learn) (1.11.1)\n",
      "Requirement already satisfied: joblib>=1.1.1 in c:\\users\\pe3ha\\appdata\\local\\packages\\pythonsoftwarefoundation.python.3.10_qbz5n2kfra8p0\\localcache\\local-packages\\python310\\site-packages (from scikit-learn) (1.3.1)\n",
      "Requirement already satisfied: threadpoolctl>=2.0.0 in c:\\users\\pe3ha\\appdata\\local\\packages\\pythonsoftwarefoundation.python.3.10_qbz5n2kfra8p0\\localcache\\local-packages\\python310\\site-packages (from scikit-learn) (3.2.0)\n"
     ]
    }
   ],
   "source": [
    "!pip install scikit-learn\n"
   ]
  }
 ],
 "metadata": {
  "kernelspec": {
   "display_name": "Python 3",
   "language": "python",
   "name": "python3"
  },
  "language_info": {
   "codemirror_mode": {
    "name": "ipython",
    "version": 3
   },
   "file_extension": ".py",
   "mimetype": "text/x-python",
   "name": "python",
   "nbconvert_exporter": "python",
   "pygments_lexer": "ipython3",
   "version": "3.10.11"
  }
 },
 "nbformat": 4,
 "nbformat_minor": 2
}
